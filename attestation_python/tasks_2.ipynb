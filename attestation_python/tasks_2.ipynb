{
 "cells": [
  {
   "cell_type": "code",
   "execution_count": 2,
   "metadata": {},
   "outputs": [],
   "source": [
    "import numpy as np\n",
    "import pandas as pd"
   ]
  },
  {
   "cell_type": "code",
   "execution_count": 1,
   "metadata": {},
   "outputs": [],
   "source": [
    "products={\n",
    "    \"Oranges (packaged)\": 114.99, \n",
    "    \"Candy (Rotfront)\": 280.00,\n",
    "    \"Boiled sausage\": 199.99,\n",
    "    \"Juice J7 (orange)\": 119.99,\n",
    "    \"Trout (Seven Seas)\": 399.99\n",
    "    }\n",
    "stocks = {\n",
    "    \"Boiled sausage\": \"33%\",\n",
    "    \"Juice J7 (orange)\": \"12%\",\n",
    "    \"Trout (Seven Seas)\": \"18%\"\n",
    "}"
   ]
  },
  {
   "cell_type": "code",
   "execution_count": 17,
   "metadata": {},
   "outputs": [],
   "source": [
    "def apply_discounts(products, stocks):\n",
    "    new_stocks = {}\n",
    "    for key, value in stocks.items():\n",
    "        new_value = float(value.replace('%', ''))\n",
    "        new_stocks[key] = new_value\n",
    "    \n",
    "    new_products = {}\n",
    "    for key, value in products.items():\n",
    "        if key in new_stocks.keys():\n",
    "            new_value = round(value * (100 - new_stocks[key]) / 100, 2)\n",
    "            new_products[key] = new_value\n",
    "        else:\n",
    "            new_products[key] = value\n",
    "    return new_products"
   ]
  },
  {
   "cell_type": "code",
   "execution_count": 18,
   "metadata": {},
   "outputs": [
    {
     "data": {
      "text/plain": [
       "{'Oranges (packaged)': 114.99,\n",
       " 'Candy (Rotfront)': 280.0,\n",
       " 'Boiled sausage': 133.99,\n",
       " 'Juice J7 (orange)': 105.59,\n",
       " 'Trout (Seven Seas)': 327.99}"
      ]
     },
     "execution_count": 18,
     "metadata": {},
     "output_type": "execute_result"
    }
   ],
   "source": [
    "apply_discounts(products, stocks)"
   ]
  },
  {
   "cell_type": "code",
   "execution_count": null,
   "metadata": {},
   "outputs": [],
   "source": [
    "test = pd.rea"
   ]
  }
 ],
 "metadata": {
  "interpreter": {
   "hash": "9eb94a1b14b334e0c3d2680a6172d27e2f37fae59d60812c65e789617d41dfbc"
  },
  "kernelspec": {
   "display_name": "Python 3.8.8 64-bit ('base': conda)",
   "language": "python",
   "name": "python3"
  },
  "language_info": {
   "codemirror_mode": {
    "name": "ipython",
    "version": 3
   },
   "file_extension": ".py",
   "mimetype": "text/x-python",
   "name": "python",
   "nbconvert_exporter": "python",
   "pygments_lexer": "ipython3",
   "version": "3.8.8"
  },
  "orig_nbformat": 4
 },
 "nbformat": 4,
 "nbformat_minor": 2
}
