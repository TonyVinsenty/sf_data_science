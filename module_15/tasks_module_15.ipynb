{
 "cells": [
  {
   "cell_type": "code",
   "execution_count": 1,
   "metadata": {},
   "outputs": [],
   "source": [
    "class DepartmentReport():\n",
    "    def add_revenue(self, revenue):\n",
    "        if not hasattr(self, 'revenues'):\n",
    "            self.revenues = []\n",
    "        self.revenues.append(revenue)\n",
    "    def average_revenue(self):\n",
    "        return sum(self.revenues) / len(self.revenues)"
   ]
  },
  {
   "cell_type": "code",
   "execution_count": 2,
   "metadata": {},
   "outputs": [],
   "source": [
    "report = DepartmentReport()\n",
    "report.add_revenue(1000000)\n",
    "report.add_revenue(400000)"
   ]
  },
  {
   "cell_type": "code",
   "execution_count": 3,
   "metadata": {},
   "outputs": [
    {
     "data": {
      "text/plain": [
       "[1000000, 400000]"
      ]
     },
     "execution_count": 3,
     "metadata": {},
     "output_type": "execute_result"
    }
   ],
   "source": [
    "report.revenues"
   ]
  },
  {
   "cell_type": "code",
   "execution_count": 5,
   "metadata": {},
   "outputs": [
    {
     "data": {
      "text/plain": [
       "700000.0"
      ]
     },
     "execution_count": 5,
     "metadata": {},
     "output_type": "execute_result"
    }
   ],
   "source": [
    "report.average_revenue()"
   ]
  },
  {
   "cell_type": "code",
   "execution_count": 8,
   "metadata": {},
   "outputs": [],
   "source": [
    "class SalesReport():\n",
    "    def __init__(self, manager_name):\n",
    "        self.deals = []\n",
    "        self.manager_name = manager_name\n",
    "        \n",
    "    def add_deal(self, amount):\n",
    "        self.deals.append(amount)\n",
    "    \n",
    "    def total_amount(self):\n",
    "        return sum(self.deals)\n",
    "    \n",
    "    def print_report(self):\n",
    "        print('Manager:', self.manager_name)\n",
    "        print('Total sales:', self.total_amount())"
   ]
  },
  {
   "cell_type": "code",
   "execution_count": 11,
   "metadata": {},
   "outputs": [
    {
     "name": "stdout",
     "output_type": "stream",
     "text": [
      "Manager: Ivan\n",
      "Total sales: 30000\n"
     ]
    }
   ],
   "source": [
    "report = SalesReport('Ivan')\n",
    "report.add_deal(10000)\n",
    "report.add_deal(20000)\n",
    "\n",
    "report.print_report()"
   ]
  },
  {
   "cell_type": "code",
   "execution_count": 31,
   "metadata": {},
   "outputs": [],
   "source": [
    "class DepartmentReport():\n",
    "    def __init__(self, company_name):\n",
    "        self.revenues = []\n",
    "        self.company_name = company_name\n",
    "        \n",
    "    def add_revenue(self, revenue):\n",
    "        self.revenues.append(revenue)\n",
    "    \n",
    "    def average_revenue(self):\n",
    "        print(f'Average department revenue for {self.company_name}: {sum(self.revenues) / len(self.revenues)}')\n",
    "        print('Average department revenue for ', self.company_name, ': ', round(sum(self.revenues) / len(self.revenues), 0), sep='')\n",
    "        \n",
    "    def average_revenue2(self):\n",
    "        test = 'Average department revenue for ' + self.company_name + ': ' + str(round(sum(self.revenues) / len(self.revenues), 0))\n",
    "        return test\n",
    "    "
   ]
  },
  {
   "cell_type": "code",
   "execution_count": 32,
   "metadata": {},
   "outputs": [
    {
     "name": "stdout",
     "output_type": "stream",
     "text": [
      "Average department revenue for Danon: 700000.0\n",
      "Average department revenue for Danon: 700000.0\n"
     ]
    }
   ],
   "source": [
    "report = DepartmentReport('Danon')\n",
    "report.add_revenue(1000000)\n",
    "report.add_revenue(400000)\n",
    "\n",
    "report.average_revenue()"
   ]
  },
  {
   "cell_type": "code",
   "execution_count": 26,
   "metadata": {},
   "outputs": [
    {
     "data": {
      "text/plain": [
       "'Average department revenue for Danon:700000'"
      ]
     },
     "execution_count": 26,
     "metadata": {},
     "output_type": "execute_result"
    }
   ],
   "source": [
    "test = 'Average department revenue for ' + 'Danon' + ': ' + str(700000)\n",
    "test"
   ]
  },
  {
   "cell_type": "code",
   "execution_count": 33,
   "metadata": {},
   "outputs": [
    {
     "name": "stdout",
     "output_type": "stream",
     "text": [
      "Average department revenue for Danon: 700000.0\n"
     ]
    }
   ],
   "source": [
    "print(report.average_revenue2())"
   ]
  }
 ],
 "metadata": {
  "interpreter": {
   "hash": "9eb94a1b14b334e0c3d2680a6172d27e2f37fae59d60812c65e789617d41dfbc"
  },
  "kernelspec": {
   "display_name": "Python 3.8.8 64-bit ('base': conda)",
   "language": "python",
   "name": "python3"
  },
  "language_info": {
   "codemirror_mode": {
    "name": "ipython",
    "version": 3
   },
   "file_extension": ".py",
   "mimetype": "text/x-python",
   "name": "python",
   "nbconvert_exporter": "python",
   "pygments_lexer": "ipython3",
   "version": "3.8.8"
  },
  "orig_nbformat": 4
 },
 "nbformat": 4,
 "nbformat_minor": 2
}
